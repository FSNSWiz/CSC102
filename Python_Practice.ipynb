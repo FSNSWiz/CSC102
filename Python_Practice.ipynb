{
  "nbformat": 4,
  "nbformat_minor": 0,
  "metadata": {
    "colab": {
      "provenance": [],
      "authorship_tag": "ABX9TyMb8D+KKJnWlpUfRu0wWFKj",
      "include_colab_link": true
    },
    "kernelspec": {
      "name": "python3",
      "display_name": "Python 3"
    },
    "language_info": {
      "name": "python"
    }
  },
  "cells": [
    {
      "cell_type": "markdown",
      "metadata": {
        "id": "view-in-github",
        "colab_type": "text"
      },
      "source": [
        "<a href=\"https://colab.research.google.com/github/FSNSWiz/CSC102-Assignment-1.2-2024/blob/main/Python_Practice.ipynb\" target=\"_parent\"><img src=\"https://colab.research.google.com/assets/colab-badge.svg\" alt=\"Open In Colab\"/></a>"
      ]
    },
    {
      "cell_type": "markdown",
      "source": [
        "Create a string variable greeting containing \"Hello, \" and another variable name containing your name. Concatenate these variables to form a greeting message and print it"
      ],
      "metadata": {
        "id": "H_AJ_cowJMOM"
      }
    },
    {
      "cell_type": "code",
      "source": [
        "greeting = \"Hello\"\n",
        "first_name = \"Fabian\"\n",
        "last_name = \"Sherrill\"\n",
        "endgreeting = \", nice to meet you!\"\n",
        "followsent = \"I'll just call you \"\n",
        "followsentend = \", if that is okay.\"\n",
        "full_name = first_name + \" \" + last_name\n",
        "full_greeting = greeting + \" \" +  full_name + endgreeting\n",
        "print(full_greeting)\n",
        "print(followsent + first_name + followsentend)"
      ],
      "metadata": {
        "colab": {
          "base_uri": "https://localhost:8080/"
        },
        "id": "-s6TZGNRJPiY",
        "outputId": "ee79c5f7-70df-4d9d-b04a-8b9146f6416c"
      },
      "execution_count": 19,
      "outputs": [
        {
          "output_type": "stream",
          "name": "stdout",
          "text": [
            "Hello Fabian Sherrill, nice to meet you!\n",
            "I'll just call you Fabian, if that is okay.\n"
          ]
        }
      ]
    },
    {
      "cell_type": "markdown",
      "source": [
        "Take a list of strings (words) and create a new list containing the lengths of each word in the original list.\n"
      ],
      "metadata": {
        "id": "d5Eet7evKy9W"
      }
    },
    {
      "cell_type": "code",
      "source": [
        "student_fnames = \"Edd, Pablo, Joe, Billy, Will, Shawn, Jerry\"\n",
        "print(\"Students:\")\n",
        "print(student_fnames)\n",
        "fnames_lengths = len(\"Edd\"), len(\"Pablo\"), len(\"Joe\"), len(\"Billy\"), len(\"Will\"), len(\"Shawn\"), len(\"Jerry\")\n",
        "print(fnames_lengths)"
      ],
      "metadata": {
        "id": "LgSanNbWLA1H",
        "colab": {
          "base_uri": "https://localhost:8080/"
        },
        "outputId": "45ffc648-0b68-45df-ce18-2870d5231de8"
      },
      "execution_count": 26,
      "outputs": [
        {
          "output_type": "stream",
          "name": "stdout",
          "text": [
            "Students:\n",
            "Edd, Pablo, Joe, Billy, Will, Shawn, Jerry\n",
            "(3, 5, 3, 5, 4, 5, 5)\n"
          ]
        }
      ]
    },
    {
      "cell_type": "markdown",
      "source": [
        "Create a dictionary student_grades with keys as student names and values as their respective grades. Find the student with the highest grade and print the output"
      ],
      "metadata": {
        "id": "o-4DokTmCr5p"
      }
    },
    {
      "cell_type": "code",
      "source": [
        "student_grades = {'jname': 'Joe', 'lname': 'Lewis', 'bname': 'Benjamin', 'classes': ['Math', 'Reading', 'Writing', 'Science'],\n",
        "'jgrades': ['65', '83', '96', '100'], 'lgrades': ['80', '91', '87', '76'], 'bgrades': ['82', '65', '100', '75']}\n",
        "print(\"Below is the highest gpa and best graded student\", (student_grades.get('jname')))\n",
        "print(\"Student classes include:\")\n",
        "print(student_grades.get('classes'))\n",
        "print(student_grades.get('jgrades'))\n",
        "gpa = sum(int(grade) for grade in student_grades['jgrades']) // len(student_grades['jgrades'])\n",
        "print('gpa:', gpa)"
      ],
      "metadata": {
        "colab": {
          "base_uri": "https://localhost:8080/"
        },
        "id": "3zpBhW4uNmGL",
        "outputId": "76cdc83c-09bb-4a7a-d80c-9e56621cd69a"
      },
      "execution_count": 2,
      "outputs": [
        {
          "output_type": "stream",
          "name": "stdout",
          "text": [
            "Below is the highest gpa and best graded student Joe\n",
            "Student classes include:\n",
            "['Math', 'Reading', 'Writing', 'Science']\n",
            "['65', '83', '96', '100']\n",
            "gpa: 86\n"
          ]
        }
      ]
    },
    {
      "cell_type": "markdown",
      "source": [
        "Write a Python program to display the first and last letters from the given list of names: [\"Adam\",\"Alex\",\"Emmanuel\" ,\"Robert\", \"Finn\"].\n",
        "\n"
      ],
      "metadata": {
        "id": "rKj2lDUr6Aj9"
      }
    },
    {
      "cell_type": "code",
      "source": [
        "names = [\"Adam\",\"Alex\",\"Emmanuel\" ,\"Robert\", \"Finn\"]\n",
        "print(names [0][0], names [1][0], names [2][0], names [3][0], names [4][0])\n",
        "print(names [0][-1], names [1][-1], names [2][-1], names [3][-1], names [4][-1])"
      ],
      "metadata": {
        "colab": {
          "base_uri": "https://localhost:8080/"
        },
        "id": "B7sUZWiA6KsQ",
        "outputId": "9b6de323-8e7d-4be3-a4bf-4f5c8f551971"
      },
      "execution_count": 13,
      "outputs": [
        {
          "output_type": "stream",
          "name": "stdout",
          "text": [
            "A A E R F\n",
            "m x l t n\n"
          ]
        }
      ]
    },
    {
      "cell_type": "markdown",
      "source": [
        "Take an input of numbers in a list and create a new list containing only the even numbers from the original list."
      ],
      "metadata": {
        "id": "kpacVNdi8rBI"
      }
    },
    {
      "cell_type": "code",
      "source": [
        "numbers = [1, 2, 3, 4, 5, 6, 7, 8, 9, 10]\n",
        "even_numbers = [num for num in numbers if num % 2 == 0]\n",
        "print(even_numbers)"
      ],
      "metadata": {
        "colab": {
          "base_uri": "https://localhost:8080/"
        },
        "id": "ZKA7kUn29DkF",
        "outputId": "136f5adb-cdda-4e00-d633-a34be449e20a"
      },
      "execution_count": 14,
      "outputs": [
        {
          "output_type": "stream",
          "name": "stdout",
          "text": [
            "[2, 4, 6, 8, 10]\n"
          ]
        }
      ]
    },
    {
      "cell_type": "markdown",
      "source": [
        "Write a Python program which accepts a sequence of comma-separated numbers from the user and generate a list with those numbers. Arrange them in ascending order"
      ],
      "metadata": {
        "id": "6iqeCtjq9RW4"
      }
    },
    {
      "cell_type": "code",
      "source": [
        "numbers = [25, 30, 55, 73, 75, 14, 15, 18, 20, 21]\n",
        "numbers.sort()\n",
        "print(numbers)\n"
      ],
      "metadata": {
        "colab": {
          "base_uri": "https://localhost:8080/"
        },
        "id": "s20Nf03R_MG-",
        "outputId": "386ff28b-1588-4f4b-ec5e-e3e6a74c808e"
      },
      "execution_count": 20,
      "outputs": [
        {
          "output_type": "stream",
          "name": "stdout",
          "text": [
            "[14, 15, 18, 20, 21, 25, 30, 55, 73, 75]\n"
          ]
        }
      ]
    }
  ]
}